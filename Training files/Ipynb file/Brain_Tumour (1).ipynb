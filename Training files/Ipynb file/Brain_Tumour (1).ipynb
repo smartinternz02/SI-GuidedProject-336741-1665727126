{
  "cells": [
    {
      "cell_type": "code",
      "execution_count": null,
      "metadata": {
        "id": "MNQ_v73qxDPA"
      },
      "outputs": [],
      "source": [
        "from keras.preprocessing.image import ImageDataGenerator\n",
        "from keras.models import Sequential\n",
        "from keras.layers import Dense\n",
        "from keras.layers import Convolution2D\n",
        "from keras.layers import MaxPooling2D\n",
        "from keras.layers import Flatten"
      ]
    },
    {
      "cell_type": "code",
      "source": [
        "from google.colab import drive\n",
        "drive.mount('/content/drive')"
      ],
      "metadata": {
        "colab": {
          "base_uri": "https://localhost:8080/"
        },
        "id": "8u8MEPdAy6o5",
        "outputId": "cbd43cb1-0f01-464d-a79a-a26e61915800"
      },
      "execution_count": null,
      "outputs": [
        {
          "output_type": "stream",
          "name": "stdout",
          "text": [
            "Drive already mounted at /content/drive; to attempt to forcibly remount, call drive.mount(\"/content/drive\", force_remount=True).\n"
          ]
        }
      ]
    },
    {
      "cell_type": "code",
      "execution_count": null,
      "metadata": {
        "id": "IuWjpav4xDPG"
      },
      "outputs": [],
      "source": [
        "train_datagen = ImageDataGenerator(rescale = 1./255,shear_range = 0.2,zoom_range = 0.2,horizontal_flip = True)\n",
        "test_datagen =ImageDataGenerator(rescale = 1)"
      ]
    },
    {
      "cell_type": "code",
      "execution_count": null,
      "metadata": {
        "colab": {
          "base_uri": "https://localhost:8080/"
        },
        "id": "EWsqpjXxxDPH",
        "outputId": "693c4542-6143-4793-b3cd-bfe2abce820a"
      },
      "outputs": [
        {
          "output_type": "stream",
          "name": "stdout",
          "text": [
            "Found 180 images belonging to 2 classes.\n",
            "Found 73 images belonging to 2 classes.\n"
          ]
        }
      ],
      "source": [
        "x_train = train_datagen.flow_from_directory('/content/drive/MyDrive/Colab Notebooks/Brain tumor/Brain Tumor/dataset/Brain_Tumor_Train_Test_Folders/train_set',target_size = (64,64),batch_size = 32, class_mode = 'binary')\n",
        "x_test =  test_datagen.flow_from_directory('/content/drive/MyDrive/Colab Notebooks/Brain tumor/Brain Tumor/dataset/Brain_Tumor_Train_Test_Folders/test_set',target_size = (64,64),batch_size = 32, class_mode = 'binary')"
      ]
    },
    {
      "cell_type": "code",
      "execution_count": null,
      "metadata": {
        "colab": {
          "base_uri": "https://localhost:8080/"
        },
        "id": "lzL6KvHjxDPH",
        "outputId": "0721a023-8ec7-4628-dc59-7529a0130b9a"
      },
      "outputs": [
        {
          "output_type": "stream",
          "name": "stdout",
          "text": [
            "{'no': 0, 'yes': 1}\n"
          ]
        }
      ],
      "source": [
        "print(x_train.class_indices)"
      ]
    },
    {
      "cell_type": "code",
      "execution_count": null,
      "metadata": {
        "id": "OU0CxM15xDPI"
      },
      "outputs": [],
      "source": [
        "model = Sequential()"
      ]
    },
    {
      "cell_type": "code",
      "execution_count": null,
      "metadata": {
        "id": "4GpQ2k5AxDPJ"
      },
      "outputs": [],
      "source": [
        "model.add(Convolution2D(32,(3,3),input_shape = (64,64,3),activation = 'relu')) \n",
        "#no. of feature detectors, size of feature detector, input shape and activation function"
      ]
    },
    {
      "cell_type": "code",
      "execution_count": null,
      "metadata": {
        "id": "ZhO-6Du5xDPJ"
      },
      "outputs": [],
      "source": [
        "model.add(MaxPooling2D(pool_size = (2,2)))"
      ]
    },
    {
      "cell_type": "code",
      "execution_count": null,
      "metadata": {
        "id": "95_KNC6pxDPK"
      },
      "outputs": [],
      "source": [
        "model.add(Flatten())"
      ]
    },
    {
      "cell_type": "code",
      "execution_count": null,
      "metadata": {
        "id": "ZCHeNC-qxDPL"
      },
      "outputs": [],
      "source": [
        "model.add(Dense(40 ,kernel_initializer = 'uniform',activation = 'relu'))"
      ]
    },
    {
      "cell_type": "code",
      "execution_count": null,
      "metadata": {
        "id": "WnSeat7RxDPL"
      },
      "outputs": [],
      "source": [
        "model.add(Dense(1,activation = 'softmax',kernel_initializer ='uniform'))"
      ]
    },
    {
      "cell_type": "code",
      "execution_count": null,
      "metadata": {
        "id": "M1KJ6ueZxDPM"
      },
      "outputs": [],
      "source": [
        "model.compile(loss = 'binary_crossentropy',optimizer = \"adam\",metrics = [\"accuracy\"])"
      ]
    },
    {
      "cell_type": "code",
      "execution_count": null,
      "metadata": {
        "id": "j6Ssdaq1xDPN",
        "colab": {
          "base_uri": "https://localhost:8080/"
        },
        "outputId": "ad761b43-f893-4b05-e0e2-b48caa15d116"
      },
      "outputs": [
        {
          "output_type": "stream",
          "name": "stderr",
          "text": [
            "/usr/local/lib/python3.7/dist-packages/ipykernel_launcher.py:1: UserWarning: `Model.fit_generator` is deprecated and will be removed in a future version. Please use `Model.fit`, which supports generators.\n",
            "  \"\"\"Entry point for launching an IPython kernel.\n"
          ]
        },
        {
          "output_type": "stream",
          "name": "stdout",
          "text": [
            "Epoch 1/10\n",
            "5/5 [==============================] - ETA: 0s - loss: 0.6699 - accuracy: 0.6625"
          ]
        },
        {
          "output_type": "stream",
          "name": "stderr",
          "text": [
            "WARNING:tensorflow:Your input ran out of data; interrupting training. Make sure that your dataset or generator can generate at least `steps_per_epoch * epochs` batches (in this case, 40 batches). You may need to use the repeat() function when building your dataset.\n"
          ]
        },
        {
          "output_type": "stream",
          "name": "stdout",
          "text": [
            "\b\b\b\b\b\b\b\b\b\b\b\b\b\b\b\b\b\b\b\b\b\b\b\b\b\b\b\b\b\b\b\b\b\b\b\b\b\b\b\b\b\b\b\b\b\b\b\b\b\b\b\b\b\b\b\b\b\b\b\b\b\b\b\b\b\b\b\b\b\b\b\b\b\b\b\b\b\b\b\b\r5/5 [==============================] - 24s 5s/step - loss: 0.6699 - accuracy: 0.6625 - val_loss: 75.4393 - val_accuracy: 0.4795\n",
            "Epoch 2/10\n",
            "5/5 [==============================] - 2s 297ms/step - loss: 0.5947 - accuracy: 0.6824\n",
            "Epoch 3/10\n",
            "5/5 [==============================] - 1s 258ms/step - loss: 0.5835 - accuracy: 0.6554\n",
            "Epoch 4/10\n",
            "5/5 [==============================] - 1s 256ms/step - loss: 0.5921 - accuracy: 0.6622\n",
            "Epoch 5/10\n",
            "5/5 [==============================] - 1s 268ms/step - loss: 0.5695 - accuracy: 0.6757\n",
            "Epoch 6/10\n",
            "5/5 [==============================] - 1s 253ms/step - loss: 0.5348 - accuracy: 0.6689\n",
            "Epoch 7/10\n",
            "5/5 [==============================] - 1s 249ms/step - loss: 0.5794 - accuracy: 0.6689\n",
            "Epoch 8/10\n",
            "5/5 [==============================] - 1s 281ms/step - loss: 0.5802 - accuracy: 0.6284\n",
            "Epoch 9/10\n",
            "5/5 [==============================] - 1s 248ms/step - loss: 0.5592 - accuracy: 0.6892\n",
            "Epoch 10/10\n",
            "5/5 [==============================] - 1s 286ms/step - loss: 0.5508 - accuracy: 0.6689\n"
          ]
        },
        {
          "output_type": "execute_result",
          "data": {
            "text/plain": [
              "<keras.callbacks.History at 0x7fcd27f06bd0>"
            ]
          },
          "metadata": {},
          "execution_count": 23
        }
      ],
      "source": [
        "model.fit_generator(x_train, steps_per_epoch = 5,epochs = 10,validation_data = x_test,validation_steps = 40)"
      ]
    },
    {
      "cell_type": "code",
      "execution_count": null,
      "metadata": {
        "id": "BieRvS3LxDPN"
      },
      "outputs": [],
      "source": [
        "model.save(\"braintumor.h5\")"
      ]
    },
    {
      "cell_type": "code",
      "execution_count": null,
      "metadata": {
        "id": "UCSMZhI1xDPO"
      },
      "outputs": [],
      "source": []
    }
  ],
  "metadata": {
    "kernelspec": {
      "display_name": "Python 3",
      "language": "python",
      "name": "python3"
    },
    "language_info": {
      "codemirror_mode": {
        "name": "ipython",
        "version": 3
      },
      "file_extension": ".py",
      "mimetype": "text/x-python",
      "name": "python",
      "nbconvert_exporter": "python",
      "pygments_lexer": "ipython3",
      "version": "3.7.3"
    },
    "colab": {
      "provenance": []
    }
  },
  "nbformat": 4,
  "nbformat_minor": 0
}